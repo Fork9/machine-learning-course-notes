{
 "cells": [
  {
   "cell_type": "markdown",
   "execution_count": null,
   "metadata": {},
   "outputs": [],
   "source": [
    "## Predict life expectancy based on BMI\n",
    "----\n",
    "\n",
    "In this below code we will predict life expectancy for single value "
   ]
  },
  {
   "cell_type": "code",
   "execution_count": 1,
   "metadata": {},
   "outputs": [
    {
     "name": "stdout",
     "output_type": "stream",
     "text": "predicted life expectancy : [[60.31564716]]\n"
    }
   ],
   "source": [
    "import pandas as pd\n",
    "import numpy as np\n",
    "from sklearn.linear_model import LinearRegression\n",
    "\n",
    "# TODO: Load the data\n",
    "bmi_life_data = pd.read_csv('bmi_and_life_expectancy.csv') \n",
    "\n",
    "# check data \n",
    "#print(bmi_life_data.head())\n",
    "\n",
    "# TODO instantiate regression model\n",
    "reg = LinearRegression()\n",
    "reg.fit(bmi_life_data[['BMI']], bmi_life_data[['Life expectancy']])\n",
    "\n",
    "#print(type(np.array(21.07931).reshape(1,-1)))\n",
    "\n",
    "# TODO: Predict life expectancy for a BMI value of 21.07931\n",
    "laos_life_exp = reg.predict(np.array(21.07931).reshape(1,-1))\n",
    "print('predicted life expectancy :',laos_life_exp)"
   ]
  },
  {
   "cell_type": "markdown",
   "execution_count": null,
   "metadata": {},
   "outputs": [],
   "source": [
    "## Multiple Linear Regression\n",
    "----\n",
    "the formula for multiple linear regression is : $y=m1​x1​+m2​x2​+m3​x3​+…+mn​xn​+b$\n",
    "\n",
    "In this exampl, we will use **Boston house-prices** dataset. The dataset consists of 13 features of 506 houses and the median home value in $1000's. You'll fit a model on the 13 features to predict the value of the houses."
   ]
  },
  {
   "cell_type": "code",
   "execution_count": 35,
   "metadata": {},
   "outputs": [
    {
     "name": "stdout",
     "output_type": "stream",
     "text": "(506, 13)\n<class 'numpy.ndarray'>\nPredicted house pricing :  [23.68284712]\n"
    }
   ],
   "source": [
    "from sklearn.datasets import load_boston\n",
    "\n",
    "boston_data = load_boston()\n",
    "X = boston_data['data']\n",
    "y = boston_data['target']\n",
    "\n",
    "print(X.shape)\n",
    "print(type(X))\n",
    "\n",
    "reg = LinearRegression()\n",
    "reg.fit(X,y)\n",
    "\n",
    "# Make a prediction using the model\n",
    "# multi-dimension list \n",
    "sample_house = [[2.29690000e-01, 0.00000000e+00, 1.05900000e+01, 0.00000000e+00, 4.89000000e-01,\n",
    "                6.32600000e+00, 5.25000000e+01, 4.35490000e+00, 4.00000000e+00, 2.77000000e+02,\n",
    "                1.86000000e+01, 3.94870000e+02, 1.09700000e+01]]\n",
    "\n",
    "\n",
    "prediction = reg.predict(sample_house)\n",
    "print('Predicted house pricing : ', prediction)\n"
   ]
  },
  {
   "cell_type": "code",
   "execution_count": null,
   "metadata": {},
   "outputs": [],
   "source": []
  }
 ],
 "metadata": {
  "kernelspec": {
   "display_name": "Python 3",
   "language": "python",
   "name": "python3"
  },
  "language_info": {
   "codemirror_mode": {
    "name": "ipython",
    "version": 3
   },
   "file_extension": ".py",
   "mimetype": "text/x-python",
   "name": "python",
   "nbconvert_exporter": "python",
   "pygments_lexer": "ipython3",
   "version": "3.7.4-final"
  }
 },
 "nbformat": 4,
 "nbformat_minor": 2
}