{
 "cells": [
  {
   "cell_type": "code",
   "execution_count": 42,
   "metadata": {},
   "outputs": [
    {
     "name": "stdout",
     "output_type": "stream",
     "text": "Country  Life expectancy       BMI\n0  Afghanistan             52.8  20.62058\n1      Albania             76.8  26.44657\n2      Algeria             75.5  24.59620\n3      Andorra             84.6  27.63048\n4       Angola             56.7  22.25083\n<class 'numpy.ndarray'>\n[[60.31564716]]\n"
    }
   ],
   "source": [
    "import pandas as pd\n",
    "import numpy as np\n",
    "from sklearn.linear_model import LinearRegression\n",
    "\n",
    "# TODO: Load the data\n",
    "bmi_life_data = pd.read_csv('bmi_and_life_expectancy.csv') \n",
    "\n",
    "# check data \n",
    "print(bmi_life_data.head())\n",
    "\n",
    "# TODO instantiate regression model\n",
    "reg = LinearRegression()\n",
    "reg.fit(bmi_life_data[['BMI']], bmi_life_data[['Life expectancy']])\n",
    "\n",
    "print(type(np.array(21.07931).reshape(1,-1)))\n",
    "\n",
    "# TODO: Predict life expectancy for a BMI value of 21.07931\n",
    "laos_life_exp = reg.predict(np.array(21.07931).reshape(1,-1))\n",
    "print(laos_life_exp)"
   ]
  },
  {
   "cell_type": "code",
   "execution_count": null,
   "metadata": {},
   "outputs": [],
   "source": []
  }
 ],
 "metadata": {
  "kernelspec": {
   "display_name": "Python 3",
   "language": "python",
   "name": "python3"
  },
  "language_info": {
   "codemirror_mode": {
    "name": "ipython",
    "version": 3
   },
   "file_extension": ".py",
   "mimetype": "text/x-python",
   "name": "python",
   "nbconvert_exporter": "python",
   "pygments_lexer": "ipython3",
   "version": "3.7.4-final"
  }
 },
 "nbformat": 4,
 "nbformat_minor": 2
}