{
 "cells": [
  {
   "cell_type": "code",
   "execution_count": 23,
   "metadata": {},
   "outputs": [
    {
     "name": "stdout",
     "output_type": "stream",
     "text": "<class 'numpy.ndarray'>\n(100, 1)\n[[ 2.23863e+00]\n [-1.56000e-03]\n [ 3.01665e+00]\n [ 2.31019e+00]\n [ 2.05950e+00]\n [ 1.24736e+00]\n [ 2.82497e+00]\n [ 2.21802e+00]\n [ 1.43644e+00]\n [ 1.74980e+00]\n [ 1.63259e+00]\n [ 2.43461e+00]\n [ 1.02226e+00]\n [ 3.11769e+00]\n [ 8.11940e-01]\n [ 2.81910e+00]\n [ 5.31050e-01]\n [ 1.64845e+00]\n [ 1.91416e+00]\n [ 2.11376e+00]\n [ 1.70969e+00]\n [ 2.92253e+00]\n [ 3.29827e+00]\n [ 1.58565e+00]\n [ 2.30455e+00]\n [ 1.79169e+00]\n [ 1.54723e+00]\n [ 1.06893e+00]\n [ 1.78802e+00]\n [ 1.84746e+00]\n [ 1.58732e+00]\n [ 1.94799e+00]\n [ 3.09324e+00]\n [ 1.86155e+00]\n [ 1.88817e+00]\n [ 1.39474e+00]\n [ 1.71526e+00]\n [ 1.75695e+00]\n [ 1.12981e+00]\n [ 1.67000e+00]\n [ 6.67110e-01]\n [ 3.11987e+00]\n [ 5.69240e-01]\n [ 2.28231e+00]\n [ 1.23798e+00]\n [ 1.35803e+00]\n [ 1.75579e+00]\n [ 1.91470e+00]\n [ 2.33029e+00]\n [ 3.25263e+00]\n [ 2.07602e+00]\n [ 1.54254e+00]\n [ 2.79202e+00]\n [ 1.96178e+00]\n [ 9.58980e-01]\n [ 1.96690e+00]\n [ 3.06144e+00]\n [ 1.85984e+00]\n [ 1.82967e+00]\n [ 6.22850e-01]\n [ 3.63838e+00]\n [ 1.11807e+00]\n [ 2.91735e+00]\n [ 1.99668e+00]\n [ 1.76149e+00]\n [ 2.31938e+00]\n [ 9.01720e-01]\n [ 3.49432e+00]\n [ 1.87838e+00]\n [ 2.61171e+00]\n [ 2.06623e+00]\n [ 3.04041e+00]\n [ 2.42824e+00]\n [ 6.31900e-01]\n [ 2.95265e+00]\n [ 1.87546e+00]\n [ 3.44953e+00]\n [ 1.53740e+00]\n [ 1.59958e+00]\n [ 1.57832e+00]\n [ 1.73312e+00]\n [ 2.00244e+00]\n [ 2.08990e+00]\n [ 1.09255e+00]\n [ 1.28183e+00]\n [ 2.32358e+00]\n [ 1.75136e+00]\n [ 1.43076e+00]\n [ 2.81376e+00]\n [ 2.56597e+00]\n [ 2.36401e+00]\n [ 2.30161e+00]\n [ 1.94500e+00]\n [ 1.87619e+00]\n [ 1.46602e+00]\n [ 1.21538e+00]\n [ 2.39377e+00]\n [ 1.55730e+00]\n [ 7.08740e-01]\n [ 1.76894e+00]]\n"
    }
   ],
   "source": [
    "import numpy as np \n",
    "import matplotlib.pyplot as plt \n",
    "\n",
    "\n",
    "#random generating seed value \n",
    "np.random.seed(42) \n",
    "\n",
    "def main():\n",
    "    #load dataset \n",
    "    data = np.loadtxt('data.csv', delimiter=',')\n",
    "    X = data[:, :-1]\n",
    "    Y = data[:, 1:2]\n",
    "\n",
    "    print(type(X))\n",
    "    print(Y.shape)\n",
    "    print(Y)\n",
    "    \n",
    "    #print(Y)\n",
    "\n",
    "\n",
    "main()\n"
   ]
  },
  {
   "cell_type": "code",
   "execution_count": null,
   "metadata": {},
   "outputs": [],
   "source": []
  }
 ],
 "metadata": {
  "kernelspec": {
   "display_name": "Python 3",
   "language": "python",
   "name": "python3"
  },
  "language_info": {
   "codemirror_mode": {
    "name": "ipython",
    "version": 3
   },
   "file_extension": ".py",
   "mimetype": "text/x-python",
   "name": "python",
   "nbconvert_exporter": "python",
   "pygments_lexer": "ipython3",
   "version": "3.7.4-final"
  }
 },
 "nbformat": 4,
 "nbformat_minor": 2
}