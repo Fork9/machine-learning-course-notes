{
 "cells": [
  {
   "cell_type": "markdown",
   "metadata": {},
   "source": [
    "Feature scaling is a way of transforming your data into a common range of values. There are two common scaling\n",
    "\n",
    "* Standardizing\n",
    "* Normalizing \n",
    "\n",
    "**Standardizing :** Standardizing is completed by taking each value of your column, subtracting the mean of the column, and then dividing by the standard deviation of the column\n",
    "\n",
    "```\n",
    "df[\"height_standard\"] = (df[\"height\"] - df[\"height\"].mean()) / df[\"height\"].std()\n",
    "```\n",
    "\n",
    "**Normalizing :** data are scaled between 0 and 1.\n",
    "\n",
    "```\n",
    "df[\"height_normal\"] = (df[\"height\"] - df[\"height\"].min()) / (df[\"height\"].max() - df['height'].min())\n",
    "```"
   ]
  },
  {
   "cell_type": "markdown",
   "metadata": {},
   "source": [
    "Feature Scaling on Lasso Regression : \n",
    "----"
   ]
  },
  {
   "cell_type": "code",
   "execution_count": 4,
   "metadata": {},
   "outputs": [
    {
     "name": "stdout",
     "output_type": "stream",
     "text": "regression cooefficient of 6 feature variables : [  0.           3.8596924    9.05021225  -0.         -11.72692976\n   0.41040086]\n"
    }
   ],
   "source": [
    "import pandas as pd\n",
    "from sklearn.linear_model import Lasso \n",
    "from sklearn.preprocessing import StandardScaler\n",
    "\n",
    "# TODO: Load the data\n",
    "train_data = pd.read_csv('Regularization.csv')\n",
    "X = train_data.iloc[:, 0:6] # first 6 column for features \n",
    "y = train_data.iloc[:,6:7] # last column for target \n",
    "\n",
    "# normalize data\n",
    "normalize = StandardScaler()\n",
    "X_normed = normalize.fit_transform(X) \n",
    "\n",
    "# TODO: Create the linear regression model with lasso regularization.\n",
    "lasso_reg = Lasso()\n",
    "\n",
    "# TODO: Fit the model.\n",
    "lasso_reg.fit(X_normed,y)\n",
    "\n",
    "# TODO: Retrieve and print out the coefficients from the regression model.\n",
    "reg_coef = lasso_reg.coef_\n",
    "print('regression cooefficient of 6 feature variables :',reg_coef)"
   ]
  },
  {
   "cell_type": "code",
   "execution_count": null,
   "metadata": {},
   "outputs": [],
   "source": []
  }
 ],
 "metadata": {
  "kernelspec": {
   "display_name": "Python 3",
   "language": "python",
   "name": "python3"
  },
  "language_info": {
   "codemirror_mode": {
    "name": "ipython",
    "version": 3
   },
   "file_extension": ".py",
   "mimetype": "text/x-python",
   "name": "python",
   "nbconvert_exporter": "python",
   "pygments_lexer": "ipython3",
   "version": "3.7.4-final"
  }
 },
 "nbformat": 4,
 "nbformat_minor": 2
}