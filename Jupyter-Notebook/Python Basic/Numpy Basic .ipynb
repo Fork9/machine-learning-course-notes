{
 "cells": [
  {
   "cell_type": "markdown",
   "metadata": {},
   "source": [
    "Numpy is more performant than python standard operation. Numpy stands for **Numerical Python** built on top of C/C++. "
   ]
  },
  {
   "cell_type": "code",
   "execution_count": 1,
   "metadata": {},
   "outputs": [],
   "source": [
    "import numpy as np \n",
    "import time \n",
    "\n",
    "x = np.random.random(1000000)"
   ]
  },
  {
   "cell_type": "markdown",
   "metadata": {},
   "source": [
    "Lets calculate the **mean** by using standard python operation "
   ]
  },
  {
   "cell_type": "code",
   "execution_count": 2,
   "metadata": {},
   "outputs": [
    {
     "name": "stdout",
     "output_type": "stream",
     "text": "0.08480525016784668\n"
    }
   ],
   "source": [
    "start = time.time()\n",
    "mean = sum(x) / len(x)\n",
    "print(time.time() - start)"
   ]
  },
  {
   "cell_type": "markdown",
   "metadata": {},
   "source": [
    "Lets calculate the mean by using **numpy**"
   ]
  },
  {
   "cell_type": "code",
   "execution_count": 3,
   "metadata": {},
   "outputs": [
    {
     "name": "stdout",
     "output_type": "stream",
     "text": "0.001995563507080078\n"
    }
   ],
   "source": [
    "start = time.time()\n",
    "mean = np.mean(x)\n",
    "print(time.time() - start)"
   ]
  },
  {
   "cell_type": "markdown",
   "execution_count": null,
   "metadata": {},
   "outputs": [],
   "source": [
    "## Numpy Array"
   ]
  },
  {
   "cell_type": "code",
   "execution_count": 4,
   "metadata": {},
   "outputs": [
    {
     "name": "stdout",
     "output_type": "stream",
     "text": "(3,)\n<class 'numpy.ndarray'>\nint32\n"
    }
   ],
   "source": [
    "x = np.array([2,3,5])\n",
    "\n",
    "print(x.shape)\n",
    "print(type(x))\n",
    "print(x.dtype) "
   ]
  },
  {
   "cell_type": "markdown",
   "execution_count": null,
   "metadata": {},
   "outputs": [],
   "source": [
    "**2D numpy array**"
   ]
  },
  {
   "cell_type": "code",
   "execution_count": 8,
   "metadata": {},
   "outputs": [
    {
     "name": "stdout",
     "output_type": "stream",
     "text": "(2, 3)\n<class 'numpy.ndarray'>\nint32\n"
    }
   ],
   "source": [
    "y = np.array([[3,5,9],[5,7,3]])\n",
    "\n",
    "print(y.shape)\n",
    "print(type(y))\n",
    "print(y.dtype) "
   ]
  },
  {
   "cell_type": "markdown",
   "execution_count": null,
   "metadata": {},
   "outputs": [],
   "source": [
    "you can mix data type in numpy array but it is not best practice. if you mix int and float then the type of all the data would be float. (**upcasting**). mixing int and string will return all the data to string. "
   ]
  },
  {
   "cell_type": "code",
   "execution_count": 12,
   "metadata": {},
   "outputs": [
    {
     "name": "stdout",
     "output_type": "stream",
     "text": "<U11\nfloat64\n<U32\n"
    }
   ],
   "source": [
    "x = np.array([1, 2, 'hello world']) # string \n",
    "y = np.array([1, 2.5, 4]) # float \n",
    "z = np.array([2.5, 3.6, 'hello world']) # string \n",
    "\n",
    "print(x.dtype)\n",
    "print(y.dtype)\n",
    "print(z.dtype)"
   ]
  },
  {
   "cell_type": "markdown",
   "execution_count": null,
   "metadata": {},
   "outputs": [],
   "source": [
    "## Saving and Loading Numpy Array "
   ]
  },
  {
   "cell_type": "code",
   "execution_count": 26,
   "metadata": {},
   "outputs": [
    {
     "name": "stdout",
     "output_type": "stream",
     "text": "['2.5' '3.6' 'hello world']\n"
    }
   ],
   "source": [
    "np.save('myarray.npy', z)\n",
    "\n",
    "tmp = np.load('myarray.npy')\n",
    "print(tmp)"
   ]
  },
  {
   "cell_type": "markdown",
   "execution_count": null,
   "metadata": {},
   "outputs": [],
   "source": [
    "*notice that mixed data type is changed while saving*"
   ]
  }
 ],
 "metadata": {
  "kernelspec": {
   "display_name": "Python 3",
   "language": "python",
   "name": "python3"
  },
  "language_info": {
   "codemirror_mode": {
    "name": "ipython",
    "version": 3
   },
   "file_extension": ".py",
   "mimetype": "text/x-python",
   "name": "python",
   "nbconvert_exporter": "python",
   "pygments_lexer": "ipython3",
   "version": "3.7.4-final"
  }
 },
 "nbformat": 4,
 "nbformat_minor": 2
}