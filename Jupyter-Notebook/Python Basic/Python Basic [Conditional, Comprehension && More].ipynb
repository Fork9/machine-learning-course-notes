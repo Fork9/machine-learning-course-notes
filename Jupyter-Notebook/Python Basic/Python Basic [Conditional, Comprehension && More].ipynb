{
 "cells": [
  {
   "cell_type": "markdown",
   "metadata": {},
   "source": [
    "## Basic if-else "
   ]
  },
  {
   "cell_type": "code",
   "execution_count": 117,
   "metadata": {},
   "outputs": [
    {
     "name": "stdout",
     "output_type": "stream",
     "text": "10 100\n"
    }
   ],
   "source": [
    "phone_balance = 10\n",
    "bank_balance = 100\n",
    "\n",
    "if phone_balance < 5:\n",
    "    phone_balance += 10\n",
    "    bank_balance -= 10\n",
    "    \n",
    "print(phone_balance, bank_balance)   "
   ]
  },
  {
   "cell_type": "markdown",
   "metadata": {},
   "source": [
    "## ```if-elif-else``` block "
   ]
  },
  {
   "cell_type": "code",
   "execution_count": 118,
   "metadata": {},
   "outputs": [
    {
     "name": "stdout",
     "output_type": "stream",
     "text": "Congratulations! You won a wafer-thin mint!\n"
    }
   ],
   "source": [
    "points = 174\n",
    "\n",
    "if points <= 50:\n",
    "    result = \"Congratulations! You won a wooden rabbit!\"\n",
    "elif points <= 150:\n",
    "    result = \"Oh dear, no prize this time.\"\n",
    "elif points <= 180:\n",
    "    result = \"Congratulations! You won a wafer-thin mint!\"\n",
    "else:\n",
    "    result = \"Congratulations! You won a penguin!\"\n",
    "\n",
    "print(result)"
   ]
  },
  {
   "cell_type": "markdown",
   "metadata": {},
   "source": [
    "Boolean expression for condition `and` and `or` operator can be used in condition "
   ]
  },
  {
   "cell_type": "code",
   "execution_count": 119,
   "metadata": {},
   "outputs": [
    {
     "name": "stdout",
     "output_type": "stream",
     "text": "BMI is bad ! 18.46\n"
    }
   ],
   "source": [
    "# in kg \n",
    "weight = 50\n",
    "# in meter \n",
    "height = 1.64592\n",
    "\n",
    "bmi = weight / height **2\n",
    "bmi = round(bmi, 2)\n",
    "\n",
    "if 18.5 <= bmi < 25:\n",
    "    print(\"BMI is considered 'normal'\")\n",
    "else:\n",
    "    print('BMI is bad ! '+ str(bmi))"
   ]
  },
  {
   "cell_type": "markdown",
   "metadata": {},
   "source": [
    "## Loop\n",
    "\n",
    "python has two types of loop, **for** and **while**. for loop iterate over an iterable. \n",
    "\n",
    "An **iterable** is an object that can return one of its elements at a time. This can include sequence types, such as strings, lists, and tuples, as well as non-sequence types, such as dictionaries and files."
   ]
  },
  {
   "cell_type": "code",
   "execution_count": 120,
   "metadata": {},
   "outputs": [
    {
     "name": "stdout",
     "output_type": "stream",
     "text": "New York City\nMountain View\nChicago\nLos Angeles\nDone!\n"
    }
   ],
   "source": [
    "cities = ['new york city', 'mountain view', 'chicago', 'los angeles']\n",
    "for city in cities:\n",
    "    print(city.title())\n",
    "print(\"Done!\")\n"
   ]
  },
  {
   "cell_type": "markdown",
   "metadata": {},
   "source": [
    "Iterate using ```range(start, end, step)``` if start and step does not specify, then default value will be 0 and 1"
   ]
  },
  {
   "cell_type": "code",
   "execution_count": 121,
   "metadata": {},
   "outputs": [
    {
     "name": "stdout",
     "output_type": "stream",
     "text": "['New York City', 'Mountain View', 'Chicago', 'Los Angeles']\n"
    }
   ],
   "source": [
    "cities = ['new york city', 'mountain view', 'chicago', 'los angeles']\n",
    "\n",
    "for index in range(len(cities)):\n",
    "    cities[index] = cities[index].title()\n",
    "    \n",
    "print(cities)"
   ]
  },
  {
   "cell_type": "markdown",
   "execution_count": 31,
   "metadata": {},
   "outputs": [],
   "source": [
    "## Dictionary "
   ]
  },
  {
   "cell_type": "code",
   "execution_count": 122,
   "metadata": {},
   "outputs": [
    {
     "name": "stdout",
     "output_type": "stream",
     "text": "{'great': 2, 'expectations': 1, 'the': 2, 'adventures': 2, 'of': 2, 'sherlock': 1, 'holmes': 1, 'gasby': 1, 'hamlet': 1, 'huckleberry': 1, 'fin': 1}\n"
    }
   ],
   "source": [
    "book_title =  ['great', 'expectations','the', 'adventures', 'of', 'sherlock','holmes','the','great','gasby','hamlet','adventures','of','huckleberry','fin']\n",
    "\n",
    "word_counter = {}\n",
    "\n",
    "for item in book_title:\n",
    "    if item not in word_counter:\n",
    "        word_counter[item] = 1\n",
    "    else:\n",
    "        word_counter[item] += 1\n",
    "        \n",
    "print(word_counter)"
   ]
  },
  {
   "cell_type": "markdown",
   "execution_count": null,
   "metadata": {},
   "outputs": [],
   "source": [
    "creating a dictionary using **get** method. if no key found then return 0 and add 1 and if found a key then add 1. "
   ]
  },
  {
   "cell_type": "code",
   "execution_count": 123,
   "metadata": {},
   "outputs": [
    {
     "name": "stdout",
     "output_type": "stream",
     "text": "{'great': 2, 'expectations': 1, 'the': 2, 'adventures': 2, 'of': 2, 'sherlock': 1, 'holmes': 1, 'gasby': 1, 'hamlet': 1, 'huckleberry': 1, 'fin': 1}\n"
    }
   ],
   "source": [
    "word_counter = {}\n",
    "\n",
    "for item in book_title:\n",
    "    word_counter[item] = word_counter.get(item, 0) + 1 \n",
    "\n",
    "print(word_counter)    "
   ]
  },
  {
   "cell_type": "markdown",
   "execution_count": null,
   "metadata": {},
   "outputs": [],
   "source": [
    "Loop through dictionary.\n",
    "When loop through dictionary like this ```for item in some_dict``` it will only return the keys of the dictionary. To get the value from the dictionary ```for key, value in some_dict.items()``` "
   ]
  },
  {
   "cell_type": "code",
   "execution_count": 124,
   "metadata": {},
   "outputs": [
    {
     "name": "stdout",
     "output_type": "stream",
     "text": "great --- 2\nexpectations --- 1\nthe --- 2\nadventures --- 2\nof --- 2\nsherlock --- 1\nholmes --- 1\ngasby --- 1\nhamlet --- 1\nhuckleberry --- 1\nfin --- 1\n"
    }
   ],
   "source": [
    "for key, value in word_counter.items():\n",
    "    print(str(key)+' --- '+str(value))"
   ]
  },
  {
   "cell_type": "code",
   "execution_count": 125,
   "metadata": {},
   "outputs": [
    {
     "name": "stdout",
     "output_type": "stream",
     "text": "Fruit 23 Non Fruit 11\n"
    }
   ],
   "source": [
    "basket_items = {'apples': 4, 'oranges': 19, 'kites': 3, 'sandwiches': 8}\n",
    "fruits = ['apples', 'oranges', 'pears', 'peaches', 'grapes', 'bananas']\n",
    "non_fruit_count, fruit_count = 0, 0\n",
    "\n",
    "for i, j in basket_items.items():\n",
    "    if i in fruits:\n",
    "        fruit_count += j\n",
    "    else : \n",
    "        non_fruit_count += j\n",
    "\n",
    "print('Fruit {} Non Fruit {}'.format(fruit_count, non_fruit_count))    \n"
   ]
  },
  {
   "cell_type": "markdown",
   "execution_count": 20,
   "metadata": {},
   "outputs": [
    {
     "ename": "NameError",
     "evalue": "name 'w' is not defined",
     "output_type": "error",
     "traceback": [
      "\u001b[1;31m---------------------------------------------------------------------------\u001b[0m",
      "\u001b[1;31mNameError\u001b[0m                                 Traceback (most recent call last)",
      "\u001b[1;32m<ipython-input-20-74c7db5447c3>\u001b[0m in \u001b[0;36m<module>\u001b[1;34m\u001b[0m\n\u001b[1;32m----> 1\u001b[1;33m \u001b[0mw\u001b[0m\u001b[1;33m\u001b[0m\u001b[1;33m\u001b[0m\u001b[0m\n\u001b[0m",
      "\u001b[1;31mNameError\u001b[0m: name 'w' is not defined"
     ]
    }
   ],
   "source": [
    "## While Loop "
   ]
  },
  {
   "cell_type": "code",
   "execution_count": 126,
   "metadata": {},
   "outputs": [],
   "source": [
    "card_deck = [4, 11, 8, 5, 13, 2, 8, 10]\n",
    "hand = []\n",
    "\n",
    "# adds the last element of the card_deck list to the hand list\n",
    "# until the values in hand add up to 17 or more\n",
    "while sum(hand)  < 17:\n",
    "    hand.append(card_deck.pop())"
   ]
  },
  {
   "cell_type": "markdown",
   "execution_count": null,
   "metadata": {},
   "outputs": [],
   "source": [
    "* `break` terminates a loop\n",
    "\n",
    "* `continue` skips one iteration of a loop"
   ]
  },
  {
   "cell_type": "code",
   "execution_count": 127,
   "metadata": {},
   "outputs": [
    {
     "name": "stdout",
     "output_type": "stream",
     "text": "[('a', 1), ('b', 2), ('c', 3), ('d', 4)]\na 1\nb 2\nc 3\nd 4\n"
    }
   ],
   "source": [
    "letters = ['a', 'b', 'c', 'd']\n",
    "nums = [1, 2, 3, 4]\n",
    "\n",
    "new_list = list(zip(letters, nums))\n",
    "\n",
    "print(new_list)\n",
    "\n",
    "# iterate touple \n",
    "for i, j in new_list:\n",
    "    print(i,j)"
   ]
  },
  {
   "cell_type": "markdown",
   "execution_count": null,
   "metadata": {},
   "outputs": [],
   "source": [
    "To unpack touple ```list1, list2 = zip(* some_list)```"
   ]
  },
  {
   "cell_type": "code",
   "execution_count": 128,
   "metadata": {},
   "outputs": [
    {
     "name": "stdout",
     "output_type": "stream",
     "text": "('a', 'b', 'c', 'd')\n(1, 2, 3, 4)\n"
    }
   ],
   "source": [
    "list1, list2 = zip(* new_list)\n",
    "print(list1)\n",
    "print(list2)\n"
   ]
  },
  {
   "cell_type": "code",
   "execution_count": 129,
   "metadata": {},
   "outputs": [
    {
     "name": "stdout",
     "output_type": "stream",
     "text": "F 23 677 4\nJ 53 233 16\nA 2 405 -6\nQ -12 433 -42\nY 95 905 3\nB 103 376 -6\nW 14 432 23\nX -5 445 -1\n"
    }
   ],
   "source": [
    "x_coord = [23, 53, 2, -12, 95, 103, 14, -5]\n",
    "y_coord = [677, 233, 405, 433, 905, 376, 432, 445]\n",
    "z_coord = [4, 16, -6, -42, 3, -6, 23, -1]\n",
    "labels = [\"F\", \"J\", \"A\", \"Q\", \"Y\", \"B\", \"W\", \"X\"]\n",
    "\n",
    "\n",
    "points = list(zip(x_coord, y_coord, z_coord, labels))\n",
    "\n",
    "for i,j,k,w in points:\n",
    "    print(w, i, j, k)\n",
    "\n",
    "#print(points)"
   ]
  },
  {
   "cell_type": "markdown",
   "execution_count": null,
   "metadata": {},
   "outputs": [],
   "source": [
    "## Enumerate\n",
    "Enumerate returns an iterator of tuples containing indices and values of a list. Enumerate is useful to iterate touple or list. \n"
   ]
  },
  {
   "cell_type": "code",
   "execution_count": 130,
   "metadata": {},
   "outputs": [
    {
     "name": "stdout",
     "output_type": "stream",
     "text": "0 great\n1 expectations\n2 the\n3 adventures\n4 of\n5 sherlock\n6 holmes\n7 gasby\n8 hamlet\n9 huckleberry\n10 fin\n"
    }
   ],
   "source": [
    "for index, value in enumerate(word_counter):\n",
    "    print(index, value)"
   ]
  },
  {
   "cell_type": "markdown",
   "execution_count": null,
   "metadata": {},
   "outputs": [],
   "source": [
    "## List Comprehension \n",
    "\n",
    "List comprehensions allow us to create a list using a for loop in one step."
   ]
  },
  {
   "cell_type": "code",
   "execution_count": 132,
   "metadata": {},
   "outputs": [
    {
     "name": "stdout",
     "output_type": "stream",
     "text": "['new york city', 'mountain view', 'chicago', 'los angeles']\n[0, 4, 16, 36]\n[0, 0, 4, 0, 16, 0, 36, 0, 64]\n"
    }
   ],
   "source": [
    "# 1 expression \n",
    "lowecase_city = [item.lower()  for item in cities]\n",
    "print(capitalized_city)\n",
    "\n",
    "# 2 expression \n",
    "square = [i**2 for i in range(7) if i%2==0]\n",
    "print(square)\n",
    "\n",
    "# 3 expression \n",
    "square = [i**2 if i%2==0 else 0  for i in range(9)]\n",
    "print(square)"
   ]
  },
  {
   "cell_type": "code",
   "execution_count": null,
   "metadata": {},
   "outputs": [],
   "source": []
  }
 ],
 "metadata": {
  "kernelspec": {
   "display_name": "Python 3",
   "language": "python",
   "name": "python3"
  },
  "language_info": {
   "codemirror_mode": {
    "name": "ipython",
    "version": 3
   },
   "file_extension": ".py",
   "mimetype": "text/x-python",
   "name": "python",
   "nbconvert_exporter": "python",
   "pygments_lexer": "ipython3",
   "version": "3.8.0-final"
  }
 },
 "nbformat": 4,
 "nbformat_minor": 2
}