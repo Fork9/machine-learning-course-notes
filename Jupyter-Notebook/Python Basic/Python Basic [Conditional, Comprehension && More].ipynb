{
 "cells": [
  {
   "cell_type": "markdown",
   "metadata": {},
   "source": [
    "Basic if-else "
   ]
  },
  {
   "cell_type": "code",
   "execution_count": 4,
   "metadata": {},
   "outputs": [
    {
     "name": "stdout",
     "output_type": "stream",
     "text": "10 100\n"
    }
   ],
   "source": [
    "phone_balance = 10\n",
    "bank_balance = 100\n",
    "\n",
    "if phone_balance < 5:\n",
    "    phone_balance += 10\n",
    "    bank_balance -= 10\n",
    "    \n",
    "print(phone_balance, bank_balance)   "
   ]
  },
  {
   "cell_type": "markdown",
   "metadata": {},
   "source": [
    "```if-elif-else``` block "
   ]
  },
  {
   "cell_type": "code",
   "execution_count": 5,
   "metadata": {},
   "outputs": [
    {
     "name": "stdout",
     "output_type": "stream",
     "text": "Congratulations! You won a wafer-thin mint!\n"
    }
   ],
   "source": [
    "points = 174\n",
    "\n",
    "if points <= 50:\n",
    "    result = \"Congratulations! You won a wooden rabbit!\"\n",
    "elif points <= 150:\n",
    "    result = \"Oh dear, no prize this time.\"\n",
    "elif points <= 180:\n",
    "    result = \"Congratulations! You won a wafer-thin mint!\"\n",
    "else:\n",
    "    result = \"Congratulations! You won a penguin!\"\n",
    "\n",
    "print(result)"
   ]
  },
  {
   "cell_type": "markdown",
   "metadata": {},
   "source": [
    "Boolean expression for condition `and` and `or` operator can be used in condition "
   ]
  },
  {
   "cell_type": "code",
   "execution_count": 6,
   "metadata": {},
   "outputs": [
    {
     "name": "stdout",
     "output_type": "stream",
     "text": "BMI is bad ! 18.46\n"
    }
   ],
   "source": [
    "# in kg \n",
    "weight = 50\n",
    "# in meter \n",
    "height = 1.64592\n",
    "\n",
    "bmi = weight / height **2\n",
    "bmi = round(bmi, 2)\n",
    "\n",
    "if 18.5 <= bmi < 25:\n",
    "    print(\"BMI is considered 'normal'\")\n",
    "else:\n",
    "    print('BMI is bad ! '+ str(bmi))"
   ]
  },
  {
   "cell_type": "markdown",
   "metadata": {},
   "source": [
    "## Loop\n",
    "\n",
    "python has two types of loop, **for** and **while**. for loop iterate over an iterable. \n",
    "\n",
    "An **iterable** is an object that can return one of its elements at a time. This can include sequence types, such as strings, lists, and tuples, as well as non-sequence types, such as dictionaries and files."
   ]
  },
  {
   "cell_type": "code",
   "execution_count": 7,
   "metadata": {},
   "outputs": [
    {
     "name": "stdout",
     "output_type": "stream",
     "text": "New York City\nMountain View\nChicago\nLos Angeles\nDone!\n"
    }
   ],
   "source": [
    "cities = ['new york city', 'mountain view', 'chicago', 'los angeles']\n",
    "for city in cities:\n",
    "    print(city.title())\n",
    "print(\"Done!\")\n"
   ]
  },
  {
   "cell_type": "markdown",
   "metadata": {},
   "source": [
    "Iterate using ```range(start, end, step)``` if start and step does not specify, then default value will be 0 and 1"
   ]
  },
  {
   "cell_type": "code",
   "execution_count": 8,
   "metadata": {},
   "outputs": [
    {
     "name": "stdout",
     "output_type": "stream",
     "text": "['New York City', 'Mountain View', 'Chicago', 'Los Angeles']\n"
    }
   ],
   "source": [
    "cities = ['new york city', 'mountain view', 'chicago', 'los angeles']\n",
    "\n",
    "for index in range(len(cities)):\n",
    "    cities[index] = cities[index].title()\n",
    "    \n",
    "print(cities)"
   ]
  },
  {
   "cell_type": "markdown",
   "execution_count": null,
   "metadata": {},
   "outputs": [],
   "source": [
    "**Building a Dictionary from a list**"
   ]
  },
  {
   "cell_type": "code",
   "execution_count": 9,
   "metadata": {},
   "outputs": [
    {
     "name": "stdout",
     "output_type": "stream",
     "text": "{'great': 2, 'expectations': 1, 'the': 2, 'adventures': 2, 'of': 2, 'sherlock': 1, 'holmes': 1, 'gasby': 1, 'hamlet': 1, 'huckleberry': 1, 'fin': 1}\n"
    }
   ],
   "source": [
    "book_title =  ['great', 'expectations','the', 'adventures', 'of', 'sherlock','holmes','the','great','gasby','hamlet','adventures','of','huckleberry','fin']\n",
    "\n",
    "word_counter = {}\n",
    "\n",
    "for item in book_title:\n",
    "    if item not in word_counter:\n",
    "        word_counter[item] = 1\n",
    "    else:\n",
    "        word_counter[item] += 1\n",
    "        \n",
    "print(word_counter)"
   ]
  },
  {
   "cell_type": "markdown",
   "execution_count": null,
   "metadata": {},
   "outputs": [],
   "source": [
    "creating a dictionary using **get** method. if no key found then return 0 and add 1 and if found a key then add 1. "
   ]
  },
  {
   "cell_type": "code",
   "execution_count": 10,
   "metadata": {},
   "outputs": [
    {
     "name": "stdout",
     "output_type": "stream",
     "text": "{'great': 2, 'expectations': 1, 'the': 2, 'adventures': 2, 'of': 2, 'sherlock': 1, 'holmes': 1, 'gasby': 1, 'hamlet': 1, 'huckleberry': 1, 'fin': 1}\n"
    }
   ],
   "source": [
    "word_counter = {}\n",
    "\n",
    "for item in book_title:\n",
    "    word_counter[item] = word_counter.get(item, 0) + 1 \n",
    "\n",
    "print(word_counter)    "
   ]
  },
  {
   "cell_type": "markdown",
   "execution_count": null,
   "metadata": {},
   "outputs": [],
   "source": [
    "Loop through dictionary.\n",
    "When loop through dictionary like this ```for item in some_dict``` it will only return the keys of the dictionary. To get the value from the dictionary ```for key, value in some_dict.items()``` "
   ]
  },
  {
   "cell_type": "code",
   "execution_count": 15,
   "metadata": {},
   "outputs": [
    {
     "name": "stdout",
     "output_type": "stream",
     "text": "great --- 2\nexpectations --- 1\nthe --- 2\nadventures --- 2\nof --- 2\nsherlock --- 1\nholmes --- 1\ngasby --- 1\nhamlet --- 1\nhuckleberry --- 1\nfin --- 1\n"
    }
   ],
   "source": [
    "for key, value in word_counter.items():\n",
    "    print(str(key)+' --- '+str(value))"
   ]
  },
  {
   "cell_type": "code",
   "execution_count": null,
   "metadata": {},
   "outputs": [],
   "source": [
    "basket_items = {'apples': 4, 'oranges': 19, 'kites': 3, 'sandwiches': 8}\n",
    "fruits = ['apples', 'oranges', 'pears', 'peaches', 'grapes', 'bananas']\n",
    "non_fruit_count, fruit_count = 0\n",
    "\n",
    "for i, j in basket_items.items():\n",
    "    if i in fruits:\n",
    "        fruit_count +=1\n",
    "    else : \n",
    "        non_fruit_count +=1\n",
    "\n",
    "print('Fruit {}')    \n"
   ]
  }
 ],
 "metadata": {
  "kernelspec": {
   "display_name": "Python 3",
   "language": "python",
   "name": "python3"
  },
  "language_info": {
   "codemirror_mode": {
    "name": "ipython",
    "version": 3
   },
   "file_extension": ".py",
   "mimetype": "text/x-python",
   "name": "python",
   "nbconvert_exporter": "python",
   "pygments_lexer": "ipython3",
   "version": "3.8.0-final"
  }
 },
 "nbformat": 4,
 "nbformat_minor": 2
}