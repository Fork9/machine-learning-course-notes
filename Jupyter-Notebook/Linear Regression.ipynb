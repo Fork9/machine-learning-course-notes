{
 "cells": [
  {
   "cell_type": "markdown",
   "metadata": {},
   "source": [
    "## Linear Regression\n",
    "----- \n",
    "\n",
    "Linear Regression is the simplest regression model. Linear regression can be used only in **continous** variable. \n",
    "\n",
    "regression formula : $y = w1x+w2$\n"
   ]
  },
  {
   "cell_type": "markdown",
   "metadata": {},
   "source": [
    "Here slop is  $w1$ and y-intercept is $w2$."
   ]
  },
  {
   "cell_type": "markdown",
   "execution_count": null,
   "metadata": {},
   "outputs": [],
   "source": [
    "**Absolute Trick** : when we got a point(p,q) and a line the goal is to move the line closer to the point. To ensure that the line don't go to far from the point we use a parameter called **learning rate $(a)$**. We will multiply the learning rate to the line to get closer to the point and also ensure that it does not go further from the point. \n",
    "\n",
    "$y = (w1+pa)x+w2+a$ ($a$ is the learning rate $(p,q)$ is a point)"
   ]
  }
 ],
 "metadata": {
  "kernelspec": {
   "display_name": "Python 3",
   "language": "python",
   "name": "python3"
  },
  "language_info": {
   "codemirror_mode": {
    "name": "ipython",
    "version": 3
   },
   "file_extension": ".py",
   "mimetype": "text/x-python",
   "name": "python",
   "nbconvert_exporter": "python",
   "pygments_lexer": "ipython3",
   "version": "3.7.4"
  }
 },
 "nbformat": 4,
 "nbformat_minor": 2
}