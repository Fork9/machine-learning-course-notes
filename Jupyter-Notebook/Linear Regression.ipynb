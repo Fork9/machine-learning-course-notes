{
 "cells": [
  {
   "cell_type": "markdown",
   "metadata": {},
   "source": [
    "## Linear Regression\n",
    "----- \n",
    "\n",
    "Linear Regression is the simplest regression model. Linear regression can be used only in **continous** variable. \n",
    "\n",
    "regression formula : $y = w1x+w2$\n"
   ]
  },
  {
   "cell_type": "markdown",
   "metadata": {},
   "source": [
    "Here slop is  $w1$ and y-intercept is $w2$."
   ]
  },
  {
   "cell_type": "code",
   "execution_count": 3,
   "metadata": {},
   "outputs": [
    {
     "data": {
      "image/png": "[encoded data removed]",
      "text/plain": "<IPython.core.display.Image object>"
     },
     "execution_count": 3,
     "metadata": {},
     "output_type": "execute_result"
    }
   ],
   "source": [
    "from IPython.display import Image \n",
    "Image(filename='img/linear_reg.png')\n"
   ]
  },
  {
   "cell_type": "markdown",
   "execution_count": null,
   "metadata": {},
   "outputs": [],
   "source": [
    "**Absolute Trick** : when we got a point $(p,q)$ and a line $y$ the goal is to move the line closer to the point. To ensure that the line does not go to far from the point we use a parameter called **learning rate $(a)$**. We will multiply the learning rate to the line to get closer to the point and also ensure that it does not go further from the point. \n",
    "\n",
    "$y = (w1+p*a)x+w2+a$ ($a$ is the learning rate and $(p,q)$ is a point)"
   ]
  },
  {
   "cell_type": "markdown",
   "execution_count": null,
   "metadata": {},
   "outputs": [],
   "source": [
    "**Square Trick :** If the point $(p,q)$ is closer to the line then the line will move little if the point is far the line will move larger amount. Square trick add a **vertical** distance to the line.\n",
    "\n",
    "lets say the point $A(p,q)$ that we want to move our line closer and another point $B(p,q')$ over the line. the vertical distance between two point is $(q-q')$ the equation would be \n",
    "\n",
    "$y = (w1+p(q-q')*a)x+w2+a*(q-q')$\n"
   ]
  },
  {
   "cell_type": "code",
   "execution_count": null,
   "metadata": {},
   "outputs": [],
   "source": []
  }
 ],
 "metadata": {
  "kernelspec": {
   "display_name": "Python 3",
   "language": "python",
   "name": "python3"
  },
  "language_info": {
   "codemirror_mode": {
    "name": "ipython",
    "version": 3
   },
   "file_extension": ".py",
   "mimetype": "text/x-python",
   "name": "python",
   "nbconvert_exporter": "python",
   "pygments_lexer": "ipython3",
   "version": "3.7.4-final"
  }
 },
 "nbformat": 4,
 "nbformat_minor": 2
}