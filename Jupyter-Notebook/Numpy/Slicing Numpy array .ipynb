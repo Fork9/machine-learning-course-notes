{
 "cells": [
  {
   "cell_type": "markdown",
   "metadata": {},
   "source": [
    "`ndarray[start:end]`\n",
    "\n",
    "`ndarray[start:]`\n",
    "\n",
    "`ndarray[:end]`"
   ]
  },
  {
   "cell_type": "code",
   "execution_count": 12,
   "metadata": {},
   "outputs": [
    {
     "name": "stdout",
     "output_type": "stream",
     "text": "[0 1 2 3 4 5 6 7 8 9]\n"
    }
   ],
   "source": [
    "import numpy as np \n",
    "\n",
    "x = np.arange(10)\n",
    "print(x)\n"
   ]
  },
  {
   "cell_type": "code",
   "execution_count": 13,
   "metadata": {},
   "outputs": [
    {
     "name": "stdout",
     "output_type": "stream",
     "text": "[2 3 4 5]\n"
    }
   ],
   "source": [
    "print(x[2:6]) #start from index 2 to index 6 exclusive "
   ]
  },
  {
   "cell_type": "code",
   "execution_count": 14,
   "metadata": {},
   "outputs": [
    {
     "name": "stdout",
     "output_type": "stream",
     "text": "[[0 1]\n [2 3]\n [4 5]\n [6 7]\n [8 9]]\n"
    }
   ],
   "source": [
    "x = np.arange(10).reshape(5,2)\n",
    "print(x)"
   ]
  },
  {
   "cell_type": "markdown",
   "execution_count": null,
   "metadata": {},
   "outputs": [],
   "source": [
    "get access 2nd row "
   ]
  },
  {
   "cell_type": "code",
   "execution_count": 15,
   "metadata": {},
   "outputs": [
    {
     "name": "stdout",
     "output_type": "stream",
     "text": "[4 5]\n"
    }
   ],
   "source": [
    "print(x[2, :])"
   ]
  },
  {
   "cell_type": "markdown",
   "execution_count": null,
   "metadata": {},
   "outputs": [],
   "source": [
    "get access all the values of 2nd columns, this way return a **rank 1 ndarray**"
   ]
  },
  {
   "cell_type": "code",
   "execution_count": 6,
   "metadata": {},
   "outputs": [
    {
     "name": "stdout",
     "output_type": "stream",
     "text": "[[ 0  1  2  3  4]\n [ 5  6  7  8  9]\n [10 11 12 13 14]\n [15 16 17 18 19]\n [20 21 22 23 24]]\n\n[ 1  6 11 16 21]\n(5,)\n\n[[ 1]\n [ 6]\n [11]\n [16]\n [21]]\n(5, 1)\n\n[[ 1  2]\n [ 6  7]\n [11 12]\n [16 17]\n [21 22]]\n"
    }
   ],
   "source": [
    "X = np.arange(25).reshape(5,5)\n",
    "print(X)\n",
    "print()\n",
    "\n",
    "# rank 1 ndarray \n",
    "r1 = X[:, 1]\n",
    "print(r1)\n",
    "print(r1.shape)\n",
    "print()\n",
    "\n",
    "# rank 2 ndarray \n",
    "r2 = X[:, 1:2] # [all the row : column from 1 to 2 (exclusive) ]\n",
    "print(r2)\n",
    "print(r2.shape)\n",
    "print()\n",
    "\n",
    "r3 = X[:, 1:3]\n",
    "print(r3)"
   ]
  },
  {
   "cell_type": "code",
   "execution_count": 7,
   "metadata": {},
   "outputs": [
    {
     "name": "stdout",
     "output_type": "stream",
     "text": "[1 3 5 7 9]\n"
    }
   ],
   "source": [
    "print(x[:, 1])"
   ]
  },
  {
   "cell_type": "markdown",
   "execution_count": null,
   "metadata": {},
   "outputs": [],
   "source": [
    "To get access a single element use ```ndarrady[row,column]``` formate"
   ]
  },
  {
   "cell_type": "code",
   "execution_count": 8,
   "metadata": {},
   "outputs": [
    {
     "name": "stdout",
     "output_type": "stream",
     "text": "6\n"
    }
   ],
   "source": [
    "print(x[3,0])"
   ]
  },
  {
   "cell_type": "code",
   "execution_count": 9,
   "metadata": {},
   "outputs": [
    {
     "name": "stdout",
     "output_type": "stream",
     "text": "[[ 0  1  2  3  4]\n [ 5  6  7  8  9]\n [10 11 12 13 14]\n [15 16 17 18 19]\n [20 21 22 23 24]]\nint32\n"
    }
   ],
   "source": [
    "y = np.arange(25, dtype=int).reshape(5,5)\n",
    "print(y)\n",
    "print(y.dtype)"
   ]
  },
  {
   "cell_type": "code",
   "execution_count": 10,
   "metadata": {},
   "outputs": [
    {
     "name": "stdout",
     "output_type": "stream",
     "text": "[ 3  8 13 18 23]\n13.0\n"
    }
   ],
   "source": [
    "# get only the values of 4th columns and mean \n",
    "print(y[:, 3])\n",
    "print(y[:,3].mean())\n"
   ]
  },
  {
   "cell_type": "markdown",
   "execution_count": null,
   "metadata": {},
   "outputs": [],
   "source": [
    "Get the **average** value of each column and row"
   ]
  },
  {
   "cell_type": "code",
   "execution_count": 11,
   "metadata": {},
   "outputs": [
    {
     "name": "stdout",
     "output_type": "stream",
     "text": "[10. 11. 12. 13. 14.]\n[ 2.  7. 12. 17. 22.]\n"
    }
   ],
   "source": [
    "print(y.mean(axis=0)) # mean of all the columns\n",
    "print(y.mean(axis=1)) # mean of all the rows "
   ]
  },
  {
   "cell_type": "code",
   "execution_count": null,
   "metadata": {},
   "outputs": [],
   "source": []
  }
 ],
 "metadata": {
  "kernelspec": {
   "display_name": "Python 3",
   "language": "python",
   "name": "python3"
  },
  "language_info": {
   "codemirror_mode": {
    "name": "ipython",
    "version": 3
   },
   "file_extension": ".py",
   "mimetype": "text/x-python",
   "name": "python",
   "nbconvert_exporter": "python",
   "pygments_lexer": "ipython3",
   "version": "3.7.4-final"
  }
 },
 "nbformat": 4,
 "nbformat_minor": 2
}